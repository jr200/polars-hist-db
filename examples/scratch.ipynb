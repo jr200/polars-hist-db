{
 "cells": [
  {
   "cell_type": "code",
   "execution_count": 11,
   "metadata": {},
   "outputs": [],
   "source": [
    "import polars as pl\n",
    "from sqlalchemy import select, text\n",
    "\n",
    "from polars_hist_db.core import DataframeOps, TableOps, make_engine"
   ]
  },
  {
   "cell_type": "code",
   "execution_count": 12,
   "metadata": {},
   "outputs": [],
   "source": [
    "engine = make_engine(\n",
    "    backend=\"mariadb\",\n",
    "    hostname=\"127.0.0.1\",\n",
    "    port=3306,\n",
    "    username=\"root\",\n",
    "    password=\"admin\",\n",
    ")"
   ]
  },
  {
   "cell_type": "code",
   "execution_count": null,
   "metadata": {},
   "outputs": [],
   "source": [
    "with engine.begin() as connection:\n",
    "    res = connection.execute(text(\"select * from information_schema.users\"))\n",
    "    rows = res.fetchall()\n",
    "\n",
    "pl.from_records(rows)"
   ]
  },
  {
   "cell_type": "code",
   "execution_count": 14,
   "metadata": {},
   "outputs": [],
   "source": [
    "with engine.begin() as connection:\n",
    "    tbl = TableOps(\"information_schema\", \"users\", connection).get_table_metadata()\n",
    "    query = select(tbl).limit(5)\n",
    "    df = DataframeOps(connection).from_selectable(\n",
    "        query, {\"PASSWORD_EXPIRATION_TIME\": pl.String}\n",
    "    )"
   ]
  },
  {
   "cell_type": "code",
   "execution_count": null,
   "metadata": {},
   "outputs": [],
   "source": [
    "print(df)"
   ]
  },
  {
   "cell_type": "code",
   "execution_count": null,
   "metadata": {},
   "outputs": [],
   "source": []
  }
 ],
 "metadata": {
  "kernelspec": {
   "display_name": ".venv",
   "language": "python",
   "name": "python3"
  },
  "language_info": {
   "codemirror_mode": {
    "name": "ipython",
    "version": 3
   },
   "file_extension": ".py",
   "mimetype": "text/x-python",
   "name": "python",
   "nbconvert_exporter": "python",
   "pygments_lexer": "ipython3",
   "version": "3.12.6"
  }
 },
 "nbformat": 4,
 "nbformat_minor": 2
}
