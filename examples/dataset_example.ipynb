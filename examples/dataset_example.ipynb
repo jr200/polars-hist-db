{
 "cells": [
  {
   "cell_type": "markdown",
   "metadata": {},
   "source": [
    "# Turkish Food Prices Dataset Example"
   ]
  },
  {
   "cell_type": "markdown",
   "metadata": {},
   "source": [
    "This example assumes you have the test database up and running locally. \n",
    "From the root of the project run the command: ``make infra-up``."
   ]
  },
  {
   "cell_type": "code",
   "execution_count": 1,
   "metadata": {},
   "outputs": [],
   "source": [
    "from datetime import datetime\n",
    "import logging\n",
    "from typing import Any, List\n",
    "\n",
    "import polars as pl\n",
    "\n",
    "from polars_hist_db.config import Config\n",
    "from polars_hist_db.core import (\n",
    "    AuditOps,\n",
    "    DataframeOps,\n",
    "    TableConfigOps,\n",
    "    TimeHint,\n",
    "    make_engine,\n",
    ")\n",
    "from polars_hist_db.dataset import run_workflows\n",
    "from polars_hist_db.loaders import FunctionRegistry"
   ]
  },
  {
   "cell_type": "markdown",
   "metadata": {},
   "source": [
    "## Initialise Configuration and Logging\n",
    "\n",
    "This example uses configuration and data used in the test suite."
   ]
  },
  {
   "cell_type": "code",
   "execution_count": 2,
   "metadata": {},
   "outputs": [
    {
     "name": "stdout",
     "output_type": "stream",
     "text": [
      "loading Config from: ../tests/_testdata_dataset_configs/foodprices_dataset.yaml\n"
     ]
    }
   ],
   "source": [
    "config_path = \"../tests/_testdata_dataset_configs/foodprices_dataset.yaml\"\n",
    "data_path = \"../tests/_testdata_dataset_configs/foodprices_data.csv\"\n",
    "\n",
    "logging.basicConfig(level=logging.INFO)\n",
    "\n",
    "config = Config.from_yaml(config_path)"
   ]
  },
  {
   "cell_type": "markdown",
   "metadata": {},
   "source": [
    "(Optionally) Print the config file to the console"
   ]
  },
  {
   "cell_type": "code",
   "execution_count": 3,
   "metadata": {},
   "outputs": [
    {
     "name": "stdout",
     "output_type": "stream",
     "text": [
      "db:\n",
      "  backend: mariadb\n",
      "  hostname: 127.0.0.1\n",
      "  port: 3306\n",
      "  username: root\n",
      "  password: admin\n",
      "  \n",
      "table_configs:\n",
      "  - name: unit_info\n",
      "    schema: test\n",
      "    is_temporal: false\n",
      "    delta_config:\n",
      "      drop_unchanged_rows: false\n",
      "      # pre_prune_idential_rows: false\n",
      "      # truncate_table_first: false\n",
      "      on_duplicate_key: take_last\n",
      "    primary_keys:\n",
      "      - id\n",
      "    columns:\n",
      "      - id<um_id\n",
      "      - name<um_name\n",
      "\n",
      "  - name: product_info\n",
      "    schema: test\n",
      "    is_temporal: false\n",
      "    delta_config:\n",
      "      drop_unchanged_rows: false\n",
      "      # pre_prune_idential_rows: false\n",
      "      # truncate_table_first: false\n",
      "      on_duplicate_key: take_last\n",
      "    primary_keys:\n",
      "      - id\n",
      "    columns:\n",
      "      - id<product_id\n",
      "      - name<product_name\n",
      "\n",
      "  - name: food_prices\n",
      "    schema: test\n",
      "    is_temporal: true\n",
      "    delta_config:\n",
      "      drop_unchanged_rows: true\n",
      "      # pre_prune_idential_rows: true\n",
      "      # truncate_table_first: true\n",
      "      time_partition:\n",
      "        column: time\n",
      "        truncate: 5d\n",
      "        unique_strategy: last\n",
      "    primary_keys:\n",
      "      - product_id\n",
      "      - um_id\n",
      "    foreign_keys:\n",
      "      - { name: product_id, references: { table: product_info, column: id } }\n",
      "      - { name: um_id, references: { table: unit_info, column: id } }\n",
      "    columns:\n",
      "        - product_id\n",
      "        - um_id\n",
      "        - price\n",
      "        - price_usd\n",
      "\n",
      "column_definitions:\n",
      "  - { name: region, data_type: VARCHAR(32), header: Place, nullable: false }\n",
      "  - { name: product_id, data_type: INT, header: ProductId, nullable: false }\n",
      "  - { name: product_name, data_type: VARCHAR(64), header: ProductName }\n",
      "  - { name: um_id, data_type: INT, header: UmId, nullable: false }\n",
      "  - { name: um_name, data_type: VARCHAR(16), header: UmName }\n",
      "  - { \n",
      "      name: price,\n",
      "      data_type: 'DECIMAL(10,4)',\n",
      "      header: Price\n",
      "    }\n",
      "  - {\n",
      "      name: price_usd,\n",
      "      data_type: 'DECIMAL(10,4)',\n",
      "      transforms: {\n",
      "        try_to_usd: [ 'Price', 'Year' ]\n",
      "      }\n",
      "    }\n",
      "  - { name: month, data_type: VARCHAR(2), header: Month }\n",
      "  - { name: year, data_type: INT, header: Year }\n",
      "  - { \n",
      "      name: time,\n",
      "      data_type: DATETIME,\n",
      "      transforms: { combine_columns: ['${Year}', '-', '${Month}', '-01' ] } \n",
      "    }\n",
      "\n",
      "datasets:\n",
      "  - name: turkey_food_prices\n",
      "    delta_table_schema: test\n",
      "    scrape_limit: ~\n",
      "    search_paths:\n",
      "      - root_path: ../_testdata_dataset_data\n",
      "        file_include: ['turkey_food_prices.csv']\n",
      "        is_enabled: true\n",
      "        timestamp:\n",
      "          source_tz: Europe/London\n",
      "          target_tz: UTC          \n",
      "          method: mtime\n",
      "\n",
      "    pipeline:\n",
      "      - table: unit_info\n",
      "        columns:\n",
      "          - id<um_id!\n",
      "          - name<um_name!\n",
      "\n",
      "      - table: product_info\n",
      "        columns:\n",
      "          - id<product_id!\n",
      "          - name<product_name!\n",
      "\n",
      "      - table: food_prices\n",
      "        type: primary\n",
      "        columns:\n",
      "        - product_id!\n",
      "        - um_id!\n",
      "        - price!\n",
      "        - price_usd!\n",
      "\n"
     ]
    }
   ],
   "source": [
    "with open(config_path, \"r\") as f:\n",
    "    print(f.read())"
   ]
  },
  {
   "cell_type": "markdown",
   "metadata": {},
   "source": [
    "## Create a SQLAlchemy Engine to connect to the database"
   ]
  },
  {
   "cell_type": "code",
   "execution_count": 4,
   "metadata": {},
   "outputs": [],
   "source": [
    "engine = make_engine(\n",
    "    backend=\"mariadb\",\n",
    "    hostname=\"127.0.0.1\",\n",
    "    port=3306,\n",
    "    username=\"root\",\n",
    "    password=\"admin\",\n",
    ")"
   ]
  },
  {
   "cell_type": "markdown",
   "metadata": {},
   "source": [
    "## Register a custom parser function\n",
    "\n",
    "The food prices from the data soruce are given in Turkish TRY.\n",
    "\n",
    "For some reason, the team only cares about the USD price. As per the dataset config, a yearly TRYUSD fx-rate is applied to the ``price`` column at scrape time, creating a derived ``price_usd`` column of type ``DECIMAL(10,4)`` in the database."
   ]
  },
  {
   "cell_type": "code",
   "execution_count": 5,
   "metadata": {},
   "outputs": [
    {
     "name": "stdout",
     "output_type": "stream",
     "text": [
      "loaded functions ['null_if_gte', 'apply_type_casts', 'combine_columns', 'try_to_usd']\n"
     ]
    }
   ],
   "source": [
    "registry = FunctionRegistry()\n",
    "\n",
    "\n",
    "def custom_try_to_usd(df: pl.DataFrame, args: List[Any]) -> pl.DataFrame:\n",
    "    usdtry_fx_rates = pl.from_dict(\n",
    "        {\n",
    "            \"Year\": [\n",
    "                2010,\n",
    "                2011,\n",
    "                2012,\n",
    "                2013,\n",
    "                2014,\n",
    "                2015,\n",
    "                2016,\n",
    "                2017,\n",
    "                2018,\n",
    "                2019,\n",
    "                2020,\n",
    "                2021,\n",
    "                2022,\n",
    "                2023,\n",
    "            ],\n",
    "            \"fx_usdtry\": [\n",
    "                1.507,\n",
    "                1.674,\n",
    "                1.802,\n",
    "                1.915,\n",
    "                2.188,\n",
    "                2.724,\n",
    "                3.020,\n",
    "                3.646,\n",
    "                4.830,\n",
    "                5.680,\n",
    "                7.004,\n",
    "                8.886,\n",
    "                16.566,\n",
    "                23.085,\n",
    "            ],\n",
    "        }\n",
    "    )\n",
    "\n",
    "    col_result = args[0]\n",
    "    col_try = args[1]\n",
    "    col_year = args[2]\n",
    "    df = (\n",
    "        df.join(usdtry_fx_rates, left_on=col_year, right_on=\"Year\", how=\"left\")\n",
    "        .with_columns((pl.col(col_try) * 1 / pl.col(\"fx_usdtry\")).alias(col_result))\n",
    "        .drop(\"fx_usdtry\")\n",
    "    )\n",
    "\n",
    "    return df\n",
    "\n",
    "\n",
    "registry.delete_function(\"try_to_usd\")\n",
    "registry.register_function(\"try_to_usd\", custom_try_to_usd)\n",
    "\n",
    "print(\"loaded functions\", registry.list_functions())"
   ]
  },
  {
   "cell_type": "markdown",
   "metadata": {},
   "source": [
    "## Run the workflow\n",
    "\n",
    "This scrapes any new files into to the database.\n",
    "\n",
    "(Try running the function a second time...)"
   ]
  },
  {
   "cell_type": "code",
   "execution_count": 6,
   "metadata": {},
   "outputs": [
    {
     "name": "stderr",
     "output_type": "stream",
     "text": [
      "INFO:polars_hist_db.dataset.workflow:scraping dataset turkey_food_prices\n",
      "INFO:polars_hist_db.dataset.workflow:starting ingest for food_prices\n",
      "INFO:polars_hist_db.loaders.file_search:searching files ['turkey_food_prices.csv'] in ../tests/_testdata_dataset_data\n",
      "INFO:polars_hist_db.loaders.file_search:found 1 files\n",
      "INFO:polars_hist_db.loaders.file_search:found total 1 files\n",
      "INFO:polars_hist_db.core.table_config:creating table test.__audit_log\n",
      "INFO:polars_hist_db.core.table_config:creating table test.unit_info\n",
      "INFO:polars_hist_db.core.table_config:creating table test.product_info\n",
      "INFO:polars_hist_db.core.table_config:creating table test.food_prices\n",
      "INFO:polars_hist_db.core.table_config:creating table test.turkey_food_prices\n",
      "INFO:polars_hist_db.dataset.workflow:[1/1] processing file mtime=2025-01-01 00:00:01\n",
      "INFO:polars_hist_db.loaders.dsv_loader:loading csv ../tests/_testdata_dataset_data/turkey_food_prices.csv\n",
      "INFO:polars_hist_db.loaders.fn_registry:applying fn try_to_usd to dataframe (7381, 8)\n",
      "INFO:polars_hist_db.loaders.fn_registry:applying fn combine_columns to dataframe (7381, 9)\n",
      "INFO:polars_hist_db.dataset.scrape:-- processing time_partition (1/75) 2013-04-30T00:00:00\n",
      "INFO:polars_hist_db.dataset.scrape:-- processing time_partition (2/75) 2013-05-30T00:00:00\n",
      "INFO:polars_hist_db.dataset.scrape:-- processing time_partition (3/75) 2013-11-01T00:00:00\n",
      "INFO:polars_hist_db.dataset.scrape:-- processing time_partition (4/75) 2013-12-01T00:00:00\n",
      "INFO:polars_hist_db.dataset.scrape:-- processing time_partition (5/75) 2013-12-31T00:00:00\n",
      "INFO:polars_hist_db.dataset.scrape:-- processing time_partition (6/75) 2014-01-30T00:00:00\n",
      "INFO:polars_hist_db.dataset.scrape:-- processing time_partition (7/75) 2014-03-01T00:00:00\n",
      "INFO:polars_hist_db.dataset.scrape:-- processing time_partition (8/75) 2014-04-30T00:00:00\n",
      "INFO:polars_hist_db.dataset.scrape:-- processing time_partition (9/75) 2014-05-30T00:00:00\n",
      "INFO:polars_hist_db.dataset.scrape:-- processing time_partition (10/75) 2014-06-29T00:00:00\n",
      "INFO:polars_hist_db.dataset.scrape:-- processing time_partition (11/75) 2014-07-29T00:00:00\n",
      "INFO:polars_hist_db.dataset.scrape:-- processing time_partition (12/75) 2014-08-28T00:00:00\n",
      "INFO:polars_hist_db.dataset.scrape:-- processing time_partition (13/75) 2014-09-27T00:00:00\n",
      "INFO:polars_hist_db.dataset.scrape:-- processing time_partition (14/75) 2014-11-01T00:00:00\n",
      "INFO:polars_hist_db.dataset.scrape:-- processing time_partition (15/75) 2014-12-01T00:00:00\n",
      "INFO:polars_hist_db.dataset.scrape:-- processing time_partition (16/75) 2014-12-31T00:00:00\n",
      "INFO:polars_hist_db.dataset.scrape:-- processing time_partition (17/75) 2015-01-30T00:00:00\n",
      "INFO:polars_hist_db.dataset.scrape:-- processing time_partition (18/75) 2015-03-01T00:00:00\n",
      "INFO:polars_hist_db.dataset.scrape:-- processing time_partition (19/75) 2015-03-31T00:00:00\n",
      "INFO:polars_hist_db.dataset.scrape:-- processing time_partition (20/75) 2015-04-30T00:00:00\n",
      "INFO:polars_hist_db.dataset.scrape:-- processing time_partition (21/75) 2015-05-30T00:00:00\n",
      "INFO:polars_hist_db.dataset.scrape:-- processing time_partition (22/75) 2015-06-29T00:00:00\n",
      "INFO:polars_hist_db.dataset.scrape:-- processing time_partition (23/75) 2015-07-29T00:00:00\n",
      "INFO:polars_hist_db.dataset.scrape:-- processing time_partition (24/75) 2015-08-28T00:00:00\n",
      "INFO:polars_hist_db.dataset.scrape:-- processing time_partition (25/75) 2015-09-27T00:00:00\n",
      "INFO:polars_hist_db.dataset.scrape:-- processing time_partition (26/75) 2015-11-01T00:00:00\n",
      "INFO:polars_hist_db.dataset.scrape:-- processing time_partition (27/75) 2015-12-01T00:00:00\n",
      "INFO:polars_hist_db.dataset.scrape:-- processing time_partition (28/75) 2015-12-31T00:00:00\n",
      "INFO:polars_hist_db.dataset.scrape:-- processing time_partition (29/75) 2016-01-30T00:00:00\n",
      "INFO:polars_hist_db.dataset.scrape:-- processing time_partition (30/75) 2016-02-29T00:00:00\n",
      "INFO:polars_hist_db.dataset.scrape:-- processing time_partition (31/75) 2016-03-30T00:00:00\n",
      "INFO:polars_hist_db.dataset.scrape:-- processing time_partition (32/75) 2016-04-29T00:00:00\n",
      "INFO:polars_hist_db.dataset.scrape:-- processing time_partition (33/75) 2016-05-29T00:00:00\n",
      "INFO:polars_hist_db.dataset.scrape:-- processing time_partition (34/75) 2016-06-28T00:00:00\n",
      "INFO:polars_hist_db.dataset.scrape:-- processing time_partition (35/75) 2016-07-28T00:00:00\n",
      "INFO:polars_hist_db.dataset.scrape:-- processing time_partition (36/75) 2016-09-01T00:00:00\n",
      "INFO:polars_hist_db.dataset.scrape:-- processing time_partition (37/75) 2016-10-01T00:00:00\n",
      "INFO:polars_hist_db.dataset.scrape:-- processing time_partition (38/75) 2016-10-31T00:00:00\n",
      "INFO:polars_hist_db.dataset.scrape:-- processing time_partition (39/75) 2016-11-30T00:00:00\n",
      "INFO:polars_hist_db.dataset.scrape:-- processing time_partition (40/75) 2016-12-30T00:00:00\n",
      "INFO:polars_hist_db.dataset.scrape:-- processing time_partition (41/75) 2017-01-29T00:00:00\n",
      "INFO:polars_hist_db.dataset.scrape:-- processing time_partition (42/75) 2017-02-28T00:00:00\n",
      "INFO:polars_hist_db.dataset.scrape:-- processing time_partition (43/75) 2017-03-30T00:00:00\n",
      "INFO:polars_hist_db.dataset.scrape:-- processing time_partition (44/75) 2017-04-29T00:00:00\n",
      "INFO:polars_hist_db.dataset.scrape:-- processing time_partition (45/75) 2017-05-29T00:00:00\n",
      "INFO:polars_hist_db.dataset.scrape:-- processing time_partition (46/75) 2017-06-28T00:00:00\n",
      "INFO:polars_hist_db.dataset.scrape:-- processing time_partition (47/75) 2017-07-28T00:00:00\n",
      "INFO:polars_hist_db.dataset.scrape:-- processing time_partition (48/75) 2017-09-01T00:00:00\n",
      "INFO:polars_hist_db.dataset.scrape:-- processing time_partition (49/75) 2017-10-01T00:00:00\n",
      "INFO:polars_hist_db.dataset.scrape:-- processing time_partition (50/75) 2017-10-31T00:00:00\n",
      "INFO:polars_hist_db.dataset.scrape:-- processing time_partition (51/75) 2017-11-30T00:00:00\n",
      "INFO:polars_hist_db.dataset.scrape:-- processing time_partition (52/75) 2017-12-30T00:00:00\n",
      "INFO:polars_hist_db.dataset.scrape:-- processing time_partition (53/75) 2018-01-29T00:00:00\n",
      "INFO:polars_hist_db.dataset.scrape:-- processing time_partition (54/75) 2018-02-28T00:00:00\n",
      "INFO:polars_hist_db.dataset.scrape:-- processing time_partition (55/75) 2018-03-30T00:00:00\n",
      "INFO:polars_hist_db.dataset.scrape:-- processing time_partition (56/75) 2018-04-29T00:00:00\n",
      "INFO:polars_hist_db.dataset.scrape:-- processing time_partition (57/75) 2018-05-29T00:00:00\n",
      "INFO:polars_hist_db.dataset.scrape:-- processing time_partition (58/75) 2018-06-28T00:00:00\n",
      "INFO:polars_hist_db.dataset.scrape:-- processing time_partition (59/75) 2018-07-28T00:00:00\n",
      "INFO:polars_hist_db.dataset.scrape:-- processing time_partition (60/75) 2018-09-01T00:00:00\n",
      "INFO:polars_hist_db.dataset.scrape:-- processing time_partition (61/75) 2018-10-01T00:00:00\n",
      "INFO:polars_hist_db.dataset.scrape:-- processing time_partition (62/75) 2018-10-31T00:00:00\n",
      "INFO:polars_hist_db.dataset.scrape:-- processing time_partition (63/75) 2018-11-30T00:00:00\n",
      "INFO:polars_hist_db.dataset.scrape:-- processing time_partition (64/75) 2018-12-30T00:00:00\n",
      "INFO:polars_hist_db.dataset.scrape:-- processing time_partition (65/75) 2019-01-29T00:00:00\n",
      "INFO:polars_hist_db.dataset.scrape:-- processing time_partition (66/75) 2019-02-28T00:00:00\n",
      "INFO:polars_hist_db.dataset.scrape:-- processing time_partition (67/75) 2019-03-30T00:00:00\n",
      "INFO:polars_hist_db.dataset.scrape:-- processing time_partition (68/75) 2019-04-29T00:00:00\n",
      "INFO:polars_hist_db.dataset.scrape:-- processing time_partition (69/75) 2019-05-29T00:00:00\n",
      "INFO:polars_hist_db.dataset.scrape:-- processing time_partition (70/75) 2019-06-28T00:00:00\n",
      "INFO:polars_hist_db.dataset.scrape:-- processing time_partition (71/75) 2019-07-28T00:00:00\n",
      "INFO:polars_hist_db.dataset.scrape:-- processing time_partition (72/75) 2019-09-01T00:00:00\n",
      "INFO:polars_hist_db.dataset.scrape:-- processing time_partition (73/75) 2019-10-01T00:00:00\n",
      "INFO:polars_hist_db.dataset.scrape:-- processing time_partition (74/75) 2019-10-31T00:00:00\n",
      "INFO:polars_hist_db.dataset.scrape:-- processing time_partition (75/75) 2019-11-30T00:00:00\n",
      "INFO:polars_hist_db.dataset.workflow:stopped scrape - food_prices\n"
     ]
    }
   ],
   "source": [
    "run_workflows(config, engine)"
   ]
  },
  {
   "cell_type": "markdown",
   "metadata": {},
   "source": [
    "## Querying the temporal tables"
   ]
  },
  {
   "cell_type": "markdown",
   "metadata": {},
   "source": [
    "Query the latest food prices."
   ]
  },
  {
   "cell_type": "code",
   "execution_count": 7,
   "metadata": {},
   "outputs": [],
   "source": [
    "with engine.begin() as connection:\n",
    "    latest_food_prices_df = DataframeOps(connection).from_table(\"test\", \"food_prices\")"
   ]
  },
  {
   "cell_type": "markdown",
   "metadata": {},
   "source": [
    "Query all the food prices."
   ]
  },
  {
   "cell_type": "code",
   "execution_count": 8,
   "metadata": {},
   "outputs": [
    {
     "data": {
      "text/html": [
       "<div><style>\n",
       ".dataframe > thead > tr,\n",
       ".dataframe > tbody > tr {\n",
       "  text-align: right;\n",
       "  white-space: pre-wrap;\n",
       "}\n",
       "</style>\n",
       "<small>shape: (2_847, 6)</small><table border=\"1\" class=\"dataframe\"><thead><tr><th>product_id</th><th>um_id</th><th>price</th><th>price_usd</th><th>__valid_from</th><th>__valid_to</th></tr><tr><td>i32</td><td>i32</td><td>decimal[10,4]</td><td>decimal[10,4]</td><td>datetime[μs]</td><td>datetime[μs]</td></tr></thead><tbody><tr><td>52</td><td>5</td><td>4.4920</td><td>2.3456</td><td>2013-04-30 00:00:00</td><td>2013-05-30 00:00:00</td></tr><tr><td>52</td><td>5</td><td>4.5786</td><td>2.3909</td><td>2013-05-30 00:00:00</td><td>2013-11-01 00:00:00</td></tr><tr><td>52</td><td>5</td><td>4.7865</td><td>2.4994</td><td>2013-11-01 00:00:00</td><td>2013-12-01 00:00:00</td></tr><tr><td>52</td><td>5</td><td>5.1337</td><td>2.6807</td><td>2013-12-01 00:00:00</td><td>2013-12-31 00:00:00</td></tr><tr><td>52</td><td>5</td><td>5.5099</td><td>2.5182</td><td>2013-12-31 00:00:00</td><td>2014-01-30 00:00:00</td></tr><tr><td>&hellip;</td><td>&hellip;</td><td>&hellip;</td><td>&hellip;</td><td>&hellip;</td><td>&hellip;</td></tr><tr><td>502</td><td>5</td><td>47.9040</td><td>8.4338</td><td>2019-07-28 00:00:00</td><td>2019-09-01 00:00:00</td></tr><tr><td>502</td><td>5</td><td>49.1176</td><td>8.6474</td><td>2019-09-01 00:00:00</td><td>2019-10-01 00:00:00</td></tr><tr><td>502</td><td>5</td><td>50.8347</td><td>8.9497</td><td>2019-10-01 00:00:00</td><td>2019-10-31 00:00:00</td></tr><tr><td>502</td><td>5</td><td>51.7985</td><td>9.1194</td><td>2019-10-31 00:00:00</td><td>2019-11-30 00:00:00</td></tr><tr><td>502</td><td>5</td><td>51.6071</td><td>9.0857</td><td>2019-11-30 00:00:00</td><td>2106-02-07 06:28:15.999999</td></tr></tbody></table></div>"
      ],
      "text/plain": [
       "shape: (2_847, 6)\n",
       "┌────────────┬───────┬───────────────┬───────────────┬─────────────────────┬───────────────────────┐\n",
       "│ product_id ┆ um_id ┆ price         ┆ price_usd     ┆ __valid_from        ┆ __valid_to            │\n",
       "│ ---        ┆ ---   ┆ ---           ┆ ---           ┆ ---                 ┆ ---                   │\n",
       "│ i32        ┆ i32   ┆ decimal[10,4] ┆ decimal[10,4] ┆ datetime[μs]        ┆ datetime[μs]          │\n",
       "╞════════════╪═══════╪═══════════════╪═══════════════╪═════════════════════╪═══════════════════════╡\n",
       "│ 52         ┆ 5     ┆ 4.4920        ┆ 2.3456        ┆ 2013-04-30 00:00:00 ┆ 2013-05-30 00:00:00   │\n",
       "│ 52         ┆ 5     ┆ 4.5786        ┆ 2.3909        ┆ 2013-05-30 00:00:00 ┆ 2013-11-01 00:00:00   │\n",
       "│ 52         ┆ 5     ┆ 4.7865        ┆ 2.4994        ┆ 2013-11-01 00:00:00 ┆ 2013-12-01 00:00:00   │\n",
       "│ 52         ┆ 5     ┆ 5.1337        ┆ 2.6807        ┆ 2013-12-01 00:00:00 ┆ 2013-12-31 00:00:00   │\n",
       "│ 52         ┆ 5     ┆ 5.5099        ┆ 2.5182        ┆ 2013-12-31 00:00:00 ┆ 2014-01-30 00:00:00   │\n",
       "│ …          ┆ …     ┆ …             ┆ …             ┆ …                   ┆ …                     │\n",
       "│ 502        ┆ 5     ┆ 47.9040       ┆ 8.4338        ┆ 2019-07-28 00:00:00 ┆ 2019-09-01 00:00:00   │\n",
       "│ 502        ┆ 5     ┆ 49.1176       ┆ 8.6474        ┆ 2019-09-01 00:00:00 ┆ 2019-10-01 00:00:00   │\n",
       "│ 502        ┆ 5     ┆ 50.8347       ┆ 8.9497        ┆ 2019-10-01 00:00:00 ┆ 2019-10-31 00:00:00   │\n",
       "│ 502        ┆ 5     ┆ 51.7985       ┆ 9.1194        ┆ 2019-10-31 00:00:00 ┆ 2019-11-30 00:00:00   │\n",
       "│ 502        ┆ 5     ┆ 51.6071       ┆ 9.0857        ┆ 2019-11-30 00:00:00 ┆ 2106-02-07            │\n",
       "│            ┆       ┆               ┆               ┆                     ┆ 06:28:15.999999       │\n",
       "└────────────┴───────┴───────────────┴───────────────┴─────────────────────┴───────────────────────┘"
      ]
     },
     "execution_count": 8,
     "metadata": {},
     "output_type": "execute_result"
    }
   ],
   "source": [
    "with engine.begin() as connection:\n",
    "    time_hint = TimeHint(mode=\"all\")\n",
    "    all_food_prices = DataframeOps(connection).from_table(\n",
    "        \"test\", \"food_prices\", time_hint\n",
    "    )\n",
    "\n",
    "\n",
    "all_food_prices"
   ]
  },
  {
   "cell_type": "markdown",
   "metadata": {},
   "source": [
    "Query the food prices at a specific point in time. In this case _1-Jan-2015_."
   ]
  },
  {
   "cell_type": "code",
   "execution_count": 9,
   "metadata": {},
   "outputs": [
    {
     "data": {
      "text/html": [
       "<div><style>\n",
       ".dataframe > thead > tr,\n",
       ".dataframe > tbody > tr {\n",
       "  text-align: right;\n",
       "  white-space: pre-wrap;\n",
       "}\n",
       "</style>\n",
       "<small>shape: (34, 6)</small><table border=\"1\" class=\"dataframe\"><thead><tr><th>product_id</th><th>um_id</th><th>price</th><th>price_usd</th><th>__valid_from</th><th>__valid_to</th></tr><tr><td>i32</td><td>i32</td><td>decimal[10,4]</td><td>decimal[10,4]</td><td>datetime[μs]</td><td>datetime[μs]</td></tr></thead><tbody><tr><td>52</td><td>5</td><td>6.7550</td><td>2.4798</td><td>2014-12-31 00:00:00</td><td>2015-01-30 00:00:00</td></tr><tr><td>58</td><td>5</td><td>2.6840</td><td>0.9853</td><td>2014-12-31 00:00:00</td><td>2015-01-30 00:00:00</td></tr><tr><td>66</td><td>5</td><td>7.6650</td><td>2.8138</td><td>2014-12-31 00:00:00</td><td>2015-01-30 00:00:00</td></tr><tr><td>92</td><td>33</td><td>0.3210</td><td>0.1178</td><td>2014-12-31 00:00:00</td><td>2015-01-30 00:00:00</td></tr><tr><td>94</td><td>5</td><td>6.6720</td><td>2.4493</td><td>2014-12-31 00:00:00</td><td>2015-01-30 00:00:00</td></tr><tr><td>&hellip;</td><td>&hellip;</td><td>&hellip;</td><td>&hellip;</td><td>&hellip;</td><td>&hellip;</td></tr><tr><td>360</td><td>5</td><td>1.1160</td><td>0.4096</td><td>2014-12-31 00:00:00</td><td>2015-01-30 00:00:00</td></tr><tr><td>401</td><td>5</td><td>13.4840</td><td>4.9500</td><td>2014-12-31 00:00:00</td><td>2015-01-30 00:00:00</td></tr><tr><td>433</td><td>5</td><td>28.2390</td><td>10.3667</td><td>2014-12-31 00:00:00</td><td>2015-01-30 00:00:00</td></tr><tr><td>463</td><td>15</td><td>2.8410</td><td>1.0429</td><td>2014-12-31 00:00:00</td><td>2015-01-30 00:00:00</td></tr><tr><td>502</td><td>5</td><td>37.3370</td><td>13.7066</td><td>2014-12-31 00:00:00</td><td>2015-01-30 00:00:00</td></tr></tbody></table></div>"
      ],
      "text/plain": [
       "shape: (34, 6)\n",
       "┌────────────┬───────┬───────────────┬───────────────┬─────────────────────┬─────────────────────┐\n",
       "│ product_id ┆ um_id ┆ price         ┆ price_usd     ┆ __valid_from        ┆ __valid_to          │\n",
       "│ ---        ┆ ---   ┆ ---           ┆ ---           ┆ ---                 ┆ ---                 │\n",
       "│ i32        ┆ i32   ┆ decimal[10,4] ┆ decimal[10,4] ┆ datetime[μs]        ┆ datetime[μs]        │\n",
       "╞════════════╪═══════╪═══════════════╪═══════════════╪═════════════════════╪═════════════════════╡\n",
       "│ 52         ┆ 5     ┆ 6.7550        ┆ 2.4798        ┆ 2014-12-31 00:00:00 ┆ 2015-01-30 00:00:00 │\n",
       "│ 58         ┆ 5     ┆ 2.6840        ┆ 0.9853        ┆ 2014-12-31 00:00:00 ┆ 2015-01-30 00:00:00 │\n",
       "│ 66         ┆ 5     ┆ 7.6650        ┆ 2.8138        ┆ 2014-12-31 00:00:00 ┆ 2015-01-30 00:00:00 │\n",
       "│ 92         ┆ 33    ┆ 0.3210        ┆ 0.1178        ┆ 2014-12-31 00:00:00 ┆ 2015-01-30 00:00:00 │\n",
       "│ 94         ┆ 5     ┆ 6.6720        ┆ 2.4493        ┆ 2014-12-31 00:00:00 ┆ 2015-01-30 00:00:00 │\n",
       "│ …          ┆ …     ┆ …             ┆ …             ┆ …                   ┆ …                   │\n",
       "│ 360        ┆ 5     ┆ 1.1160        ┆ 0.4096        ┆ 2014-12-31 00:00:00 ┆ 2015-01-30 00:00:00 │\n",
       "│ 401        ┆ 5     ┆ 13.4840       ┆ 4.9500        ┆ 2014-12-31 00:00:00 ┆ 2015-01-30 00:00:00 │\n",
       "│ 433        ┆ 5     ┆ 28.2390       ┆ 10.3667       ┆ 2014-12-31 00:00:00 ┆ 2015-01-30 00:00:00 │\n",
       "│ 463        ┆ 15    ┆ 2.8410        ┆ 1.0429        ┆ 2014-12-31 00:00:00 ┆ 2015-01-30 00:00:00 │\n",
       "│ 502        ┆ 5     ┆ 37.3370       ┆ 13.7066       ┆ 2014-12-31 00:00:00 ┆ 2015-01-30 00:00:00 │\n",
       "└────────────┴───────┴───────────────┴───────────────┴─────────────────────┴─────────────────────┘"
      ]
     },
     "execution_count": 9,
     "metadata": {},
     "output_type": "execute_result"
    }
   ],
   "source": [
    "with engine.begin() as connection:\n",
    "    time_hint = TimeHint(mode=\"asof\", asof_utc=datetime(2015, 1, 1))\n",
    "    food_prices_at_2015_date = DataframeOps(connection).from_table(\n",
    "        \"test\", \"food_prices\", time_hint\n",
    "    )\n",
    "\n",
    "\n",
    "food_prices_at_2015_date"
   ]
  },
  {
   "cell_type": "markdown",
   "metadata": {},
   "source": [
    "## Delete the data associated with the dataset\n",
    "\n",
    "Reset the example. Subsequent attempts to upload the same data (or past data) into the database will fail."
   ]
  },
  {
   "cell_type": "code",
   "execution_count": 10,
   "metadata": {},
   "outputs": [
    {
     "name": "stderr",
     "output_type": "stream",
     "text": [
      "INFO:polars_hist_db.core.table_config:dropped table food_prices\n",
      "INFO:polars_hist_db.core.table_config:dropped table product_info\n",
      "INFO:polars_hist_db.core.table_config:dropped table unit_info\n",
      "INFO:polars_hist_db.core.table_config:dropped table __audit_log\n"
     ]
    }
   ],
   "source": [
    "with engine.begin() as connection:\n",
    "    TableConfigOps(connection).drop_all(config.tables)\n",
    "    AuditOps(config.tables.schemas()[0]).drop(connection)"
   ]
  }
 ],
 "metadata": {
  "kernelspec": {
   "display_name": ".venv",
   "language": "python",
   "name": "python3"
  },
  "language_info": {
   "codemirror_mode": {
    "name": "ipython",
    "version": 3
   },
   "file_extension": ".py",
   "mimetype": "text/x-python",
   "name": "python",
   "nbconvert_exporter": "python",
   "pygments_lexer": "ipython3",
   "version": "3.12.6"
  }
 },
 "nbformat": 4,
 "nbformat_minor": 2
}
