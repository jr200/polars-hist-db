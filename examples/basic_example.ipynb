{
 "cells": [
  {
   "cell_type": "markdown",
   "metadata": {},
   "source": [
    "# Basic Usage Example\n",
    "\n",
    "This example shows how to make an engine, and run a basic query."
   ]
  },
  {
   "cell_type": "code",
   "execution_count": 1,
   "metadata": {},
   "outputs": [],
   "source": [
    "import polars as pl\n",
    "from sqlalchemy import select, text\n",
    "\n",
    "from polars_hist_db.core import DataframeOps, TableOps, make_engine"
   ]
  },
  {
   "cell_type": "code",
   "execution_count": 2,
   "metadata": {},
   "outputs": [],
   "source": [
    "engine = make_engine(\n",
    "    backend=\"mariadb\",\n",
    "    hostname=\"127.0.0.1\",\n",
    "    port=3306,\n",
    "    username=\"root\",\n",
    "    password=\"admin\",\n",
    ")"
   ]
  },
  {
   "cell_type": "code",
   "execution_count": 3,
   "metadata": {},
   "outputs": [
    {
     "name": "stdout",
     "output_type": "stream",
     "text": [
      "shape: (5, 3)\n",
      "┌───────────────────────────┬─────────────────┬──────────────────────────┐\n",
      "│ USER                      ┆ PASSWORD_ERRORS ┆ PASSWORD_EXPIRATION_TIME │\n",
      "│ ---                       ┆ ---             ┆ ---                      │\n",
      "│ cat                       ┆ i64             ┆ str                      │\n",
      "╞═══════════════════════════╪═════════════════╪══════════════════════════╡\n",
      "│ 'admin'@'%'               ┆ 1               ┆ null                     │\n",
      "│ 'healthcheck'@'localhost' ┆ 0               ┆ null                     │\n",
      "│ 'healthcheck'@'::1'       ┆ 0               ┆ null                     │\n",
      "│ 'healthcheck'@'127.0.0.1' ┆ 0               ┆ null                     │\n",
      "│ 'mariadb.sys'@'localhost' ┆ 0               ┆ 0000-00-00 00:00:00      │\n",
      "└───────────────────────────┴─────────────────┴──────────────────────────┘\n"
     ]
    }
   ],
   "source": [
    "with engine.begin() as connection:\n",
    "    tbl = TableOps(\"information_schema\", \"users\", connection).get_table_metadata()\n",
    "    query = select(tbl).limit(5)\n",
    "    df = DataframeOps(connection).from_selectable(\n",
    "        query, {\"PASSWORD_EXPIRATION_TIME\": pl.String}\n",
    "    )\n",
    "\n",
    "print(df)"
   ]
  },
  {
   "cell_type": "markdown",
   "metadata": {},
   "source": [
    "An equivalent command using only SQLAlchemy and Polars is below. Note type types of the columns."
   ]
  },
  {
   "cell_type": "code",
   "execution_count": 4,
   "metadata": {},
   "outputs": [
    {
     "name": "stdout",
     "output_type": "stream",
     "text": [
      "shape: (5, 3)\n",
      "┌───────────────────────────┬─────────────────┬──────────────────────────┐\n",
      "│ USER                      ┆ PASSWORD_ERRORS ┆ PASSWORD_EXPIRATION_TIME │\n",
      "│ ---                       ┆ ---             ┆ ---                      │\n",
      "│ str                       ┆ i64             ┆ str                      │\n",
      "╞═══════════════════════════╪═════════════════╪══════════════════════════╡\n",
      "│ 'admin'@'%'               ┆ 1               ┆ null                     │\n",
      "│ 'healthcheck'@'localhost' ┆ 0               ┆ null                     │\n",
      "│ 'healthcheck'@'::1'       ┆ 0               ┆ null                     │\n",
      "│ 'healthcheck'@'127.0.0.1' ┆ 0               ┆ null                     │\n",
      "│ 'mariadb.sys'@'localhost' ┆ 0               ┆ 0000-00-00 00:00:00      │\n",
      "└───────────────────────────┴─────────────────┴──────────────────────────┘\n"
     ]
    }
   ],
   "source": [
    "with engine.begin() as connection:\n",
    "    res = connection.execute(text(\"select * from information_schema.users limit 5\"))\n",
    "    rows = res.fetchall()\n",
    "    df = pl.from_records(rows)\n",
    "\n",
    "print(df)"
   ]
  }
 ],
 "metadata": {
  "kernelspec": {
   "display_name": ".venv",
   "language": "python",
   "name": "python3"
  },
  "language_info": {
   "codemirror_mode": {
    "name": "ipython",
    "version": 3
   },
   "file_extension": ".py",
   "mimetype": "text/x-python",
   "name": "python",
   "nbconvert_exporter": "python",
   "pygments_lexer": "ipython3",
   "version": "3.12.6"
  }
 },
 "nbformat": 4,
 "nbformat_minor": 2
}
