{
 "cells": [
  {
   "cell_type": "markdown",
   "metadata": {},
   "source": [
    "# Turkish Food Prices Dataset Example"
   ]
  },
  {
   "cell_type": "markdown",
   "metadata": {},
   "source": [
    "This example assumes you have the test database up and running locally. \n",
    "From the root of the project run the command: ``make infra-up``."
   ]
  },
  {
   "cell_type": "code",
   "execution_count": 1,
   "metadata": {},
   "outputs": [],
   "source": [
    "from datetime import datetime\n",
    "import logging\n",
    "from typing import Any, List\n",
    "\n",
    "import polars as pl\n",
    "\n",
    "from polars_hist_db.config import Config\n",
    "from polars_hist_db.core import (\n",
    "    AuditOps,\n",
    "    DataframeOps,\n",
    "    TableConfigOps,\n",
    "    TimeHint,\n",
    "    make_engine,\n",
    ")\n",
    "from polars_hist_db.dataset import run_workflows\n",
    "from polars_hist_db.loaders import FunctionRegistry"
   ]
  },
  {
   "cell_type": "markdown",
   "metadata": {},
   "source": [
    "## Initialise Configuration and Logging\n",
    "\n",
    "This example uses configuration and data used in the test suite."
   ]
  },
  {
   "cell_type": "code",
   "execution_count": null,
   "metadata": {},
   "outputs": [],
   "source": [
    "config_path = \"../tests/_testdata_dataset_configs/dataset_foodprices.yaml\"\n",
    "data_path = \"../tests/_testdata_dataset_configs/foodprices_data.csv\"\n",
    "\n",
    "logging.basicConfig(level=logging.INFO)\n",
    "\n",
    "config = Config.from_yaml(config_path)"
   ]
  },
  {
   "cell_type": "markdown",
   "metadata": {},
   "source": [
    "(Optionally) Print the config file to the console"
   ]
  },
  {
   "cell_type": "code",
   "execution_count": null,
   "metadata": {},
   "outputs": [],
   "source": [
    "with open(config_path, \"r\") as f:\n",
    "    print(f.read())"
   ]
  },
  {
   "cell_type": "markdown",
   "metadata": {},
   "source": [
    "## Create a SQLAlchemy Engine to connect to the database"
   ]
  },
  {
   "cell_type": "code",
   "execution_count": 4,
   "metadata": {},
   "outputs": [],
   "source": [
    "engine = make_engine(\n",
    "    backend=\"mariadb\",\n",
    "    hostname=\"127.0.0.1\",\n",
    "    port=3306,\n",
    "    username=\"root\",\n",
    "    password=\"admin\",\n",
    ")"
   ]
  },
  {
   "cell_type": "markdown",
   "metadata": {},
   "source": [
    "## Register a custom parser function\n",
    "\n",
    "The food prices from the data soruce are given in Turkish TRY.\n",
    "\n",
    "For some reason, the team only cares about the USD price. As per the dataset config, a yearly TRYUSD fx-rate is applied to the ``price`` column at scrape time, creating a derived ``price_usd`` column of type ``DECIMAL(10,4)`` in the database."
   ]
  },
  {
   "cell_type": "code",
   "execution_count": null,
   "metadata": {},
   "outputs": [],
   "source": [
    "registry = FunctionRegistry()\n",
    "\n",
    "\n",
    "def custom_try_to_usd(df: pl.DataFrame, args: List[Any]) -> pl.DataFrame:\n",
    "    usdtry_fx_rates = pl.from_dict(\n",
    "        {\n",
    "            \"Year\": [\n",
    "                2010,\n",
    "                2011,\n",
    "                2012,\n",
    "                2013,\n",
    "                2014,\n",
    "                2015,\n",
    "                2016,\n",
    "                2017,\n",
    "                2018,\n",
    "                2019,\n",
    "                2020,\n",
    "                2021,\n",
    "                2022,\n",
    "                2023,\n",
    "            ],\n",
    "            \"fx_usdtry\": [\n",
    "                1.507,\n",
    "                1.674,\n",
    "                1.802,\n",
    "                1.915,\n",
    "                2.188,\n",
    "                2.724,\n",
    "                3.020,\n",
    "                3.646,\n",
    "                4.830,\n",
    "                5.680,\n",
    "                7.004,\n",
    "                8.886,\n",
    "                16.566,\n",
    "                23.085,\n",
    "            ],\n",
    "        }\n",
    "    )\n",
    "\n",
    "    col_result = args[0]\n",
    "    col_try = args[1]\n",
    "    col_year = args[2]\n",
    "    df = (\n",
    "        df.join(usdtry_fx_rates, left_on=col_year, right_on=\"Year\", how=\"left\")\n",
    "        .with_columns((pl.col(col_try) * 1 / pl.col(\"fx_usdtry\")).alias(col_result))\n",
    "        .drop(\"fx_usdtry\")\n",
    "    )\n",
    "\n",
    "    return df\n",
    "\n",
    "\n",
    "registry.delete_function(\"try_to_usd\")\n",
    "registry.register_function(\"try_to_usd\", custom_try_to_usd)\n",
    "\n",
    "print(\"loaded functions\", registry.list_functions())"
   ]
  },
  {
   "cell_type": "markdown",
   "metadata": {},
   "source": [
    "## Run the workflow\n",
    "\n",
    "This scrapes any new files into to the database.\n",
    "\n",
    "(Try running the function a second time...)"
   ]
  },
  {
   "cell_type": "code",
   "execution_count": null,
   "metadata": {},
   "outputs": [],
   "source": [
    "run_workflows(config, engine)"
   ]
  },
  {
   "cell_type": "markdown",
   "metadata": {},
   "source": [
    "## Querying the temporal tables"
   ]
  },
  {
   "cell_type": "markdown",
   "metadata": {},
   "source": [
    "Query the latest food prices."
   ]
  },
  {
   "cell_type": "code",
   "execution_count": 7,
   "metadata": {},
   "outputs": [],
   "source": [
    "with engine.begin() as connection:\n",
    "    latest_food_prices_df = DataframeOps(connection).from_table(\"test\", \"food_prices\")"
   ]
  },
  {
   "cell_type": "markdown",
   "metadata": {},
   "source": [
    "Query all the food prices."
   ]
  },
  {
   "cell_type": "code",
   "execution_count": null,
   "metadata": {},
   "outputs": [],
   "source": [
    "with engine.begin() as connection:\n",
    "    time_hint = TimeHint(mode=\"all\")\n",
    "    all_food_prices = DataframeOps(connection).from_table(\n",
    "        \"test\", \"food_prices\", time_hint\n",
    "    )\n",
    "\n",
    "\n",
    "all_food_prices"
   ]
  },
  {
   "cell_type": "markdown",
   "metadata": {},
   "source": [
    "Query the food prices at a specific point in time. In this case _1-Jan-2015_."
   ]
  },
  {
   "cell_type": "code",
   "execution_count": null,
   "metadata": {},
   "outputs": [],
   "source": [
    "with engine.begin() as connection:\n",
    "    time_hint = TimeHint(mode=\"asof\", asof_utc=datetime(2015, 1, 1))\n",
    "    food_prices_at_2015_date = DataframeOps(connection).from_table(\n",
    "        \"test\", \"food_prices\", time_hint\n",
    "    )\n",
    "\n",
    "\n",
    "food_prices_at_2015_date"
   ]
  },
  {
   "cell_type": "markdown",
   "metadata": {},
   "source": [
    "## Delete the data associated with the dataset\n",
    "\n",
    "Reset the example. Subsequent attempts to upload the same data (or past data) into the database will fail."
   ]
  },
  {
   "cell_type": "code",
   "execution_count": null,
   "metadata": {},
   "outputs": [],
   "source": [
    "with engine.begin() as connection:\n",
    "    TableConfigOps(connection).drop_all(config.tables)\n",
    "    AuditOps(config.tables.schemas()[0]).drop(connection)"
   ]
  }
 ],
 "metadata": {
  "kernelspec": {
   "display_name": ".venv",
   "language": "python",
   "name": "python3"
  },
  "language_info": {
   "codemirror_mode": {
    "name": "ipython",
    "version": 3
   },
   "file_extension": ".py",
   "mimetype": "text/x-python",
   "name": "python",
   "nbconvert_exporter": "python",
   "pygments_lexer": "ipython3",
   "version": "3.12.9"
  }
 },
 "nbformat": 4,
 "nbformat_minor": 2
}
